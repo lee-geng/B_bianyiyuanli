{
 "cells": [
  {
   "cell_type": "code",
   "execution_count": null,
   "metadata": {},
   "outputs": [],
   "source": [
    "import operator\n",
    "p=0;\n",
    "letter='';\n",
    "layer=1;\n",
    "letters=0;\n",
    "black=4*' ';\n",
    "middle=list();\n",
    "vari=list();\n",
    "tmp=list();\n",
    "flist=list();\n",
    "v2=list();\n",
    "v3=list();\n",
    "t_time=-1;"
   ]
  },
  {
   "cell_type": "code",
   "execution_count": null,
   "metadata": {},
   "outputs": [],
   "source": []
  },
  {
   "cell_type": "code",
   "execution_count": null,
   "metadata": {},
   "outputs": [],
   "source": []
  },
  {
   "cell_type": "code",
   "execution_count": null,
   "metadata": {},
   "outputs": [],
   "source": []
  },
  {
   "cell_type": "code",
   "execution_count": 21,
   "metadata": {},
   "outputs": [
    {
     "data": {
      "text/plain": [
       "0"
      ]
     },
     "execution_count": 21,
     "metadata": {},
     "output_type": "execute_result"
    }
   ],
   "source": [
    "len(middle)"
   ]
  },
  {
   "cell_type": "code",
   "execution_count": 22,
   "metadata": {},
   "outputs": [],
   "source": [
    "def is_iden():\n",
    "    #print(letter[0].isalpha);\n",
    "    if letter[0].isalpha()==0:\n",
    "        return 0;\n",
    "    else:\n",
    "        for i in range(1,len(letter)):\n",
    "            if letter[i].isalnum==0:\n",
    "                return 0;\n",
    "        return 1;\n",
    "\n",
    "def is_number():\n",
    "    for i in range(0,len(letter)):\n",
    "        if letter[i].isdigit()==0:\n",
    "            return 0;\n",
    "    return 1;\n",
    "def is_plus_minus():#是否为 + ，- \n",
    "    if (letter=='+') or (letter=='-'):\n",
    "        return 1\n",
    "    return 0\n",
    "def is_time_divide():#是否为 *,/\n",
    "    if (letter=='*') or (letter=='/'):\n",
    "        return 1\n",
    "    return 0\n",
    "def is_greater_then_less_than():\n",
    "    if (letter=='>') or (letter=='<'):\n",
    "        return 1\n",
    "    return 0\n",
    "def is_guanxi():\n",
    "    if (letter=='==') |(letter=='<=')|(letter=='<')|(letter=='>')|(letter=='>=')|(letter=='<>'):\n",
    "        #print(234)\n",
    "        return 1;\n",
    "    return 0;"
   ]
  },
  {
   "cell_type": "code",
   "execution_count": 23,
   "metadata": {},
   "outputs": [],
   "source": [
    "def is_factor():\n",
    "    black=4*' '*layer;\n",
    "    read_string();\n",
    "    \n",
    "    if is_iden()==1:\n",
    "        tmp.append(letter);\n",
    "        #print('factor',tmp)\n",
    "        #print(black,\"标识符 \",letter);\n",
    "        read_string();\n",
    "        if is_time_divide()==1:\n",
    "            tmp.append(letter);\n",
    "            #print(black,letter);\n",
    "            is_factor();\n",
    "        return 1;\n",
    "    elif is_number()==1:\n",
    "        tmp.append(letter);\n",
    "        #print('factor',tmp)\n",
    "       # print(black,\"常数\",letter);\n",
    "        read_string();\n",
    "        if is_time_divide()==1:\n",
    "            tmp.append(letter);\n",
    "            #print(black,letter);\n",
    "            is_factor();\n",
    "        return 1;\n",
    "    #print('tmp end',tmp);\n",
    "    else:\n",
    "        return 0;"
   ]
  },
  {
   "cell_type": "code",
   "execution_count": 24,
   "metadata": {},
   "outputs": [],
   "source": [
    "pl1=list();\n",
    "pl2=list();\n",
    "\n",
    "    "
   ]
  },
  {
   "cell_type": "code",
   "execution_count": 25,
   "metadata": {},
   "outputs": [],
   "source": [
    "pl2.clear()"
   ]
  },
  {
   "cell_type": "code",
   "execution_count": 26,
   "metadata": {},
   "outputs": [],
   "source": [
    "def combine(line):\n",
    "    global t_time;\n",
    "    t_time=t_time+1;\n",
    "    char='';\n",
    "    for i in range(0,3):\n",
    "        if line[i] in v2:\n",
    "            index_1=v2.index(line[i]);\n",
    "            line[i]=v3[index_1];\n",
    "        char=char+line[i];\n",
    "    char1='t'+str(t_time);\n",
    "    char=char1+'='+char\n",
    "    middle.append(char);\n",
    "    del line[0];\n",
    "    del line[0];\n",
    "    line[0]=char1;\n",
    "    #print('combine',line)"
   ]
  },
  {
   "cell_type": "code",
   "execution_count": 27,
   "metadata": {},
   "outputs": [],
   "source": [
    "def is_plus_factor():\n",
    "    black = 4*' '*layer;\n",
    "    if is_factor():\n",
    "        #print('tmp',tmp)\n",
    "        while len(tmp) > 1:\n",
    "            combine(tmp);\n",
    "        \n",
    "        vari.append(tmp[0])\n",
    "        tmp.clear();\n",
    "        if is_plus_minus():\n",
    "            vari.append(letter);\n",
    "           # print(black,letter);\n",
    "            is_plus_factor()\n",
    "                #print(\"缺少因子\");\n",
    "    else:\n",
    "        return 0;\n",
    "            \n",
    "        "
   ]
  },
  {
   "cell_type": "code",
   "execution_count": 28,
   "metadata": {},
   "outputs": [],
   "source": [
    "def is_ifconditon():\n",
    "    black = 4*' '*layer;\n",
    "    if is_expression():\n",
    "        if is_guanxi():\n",
    "            #print(black,letter);\n",
    "            vari.append(letter);\n",
    "            is_expression()\n",
    "        else:\n",
    "            print(\"缺少关系运算符\");"
   ]
  },
  {
   "cell_type": "code",
   "execution_count": 29,
   "metadata": {},
   "outputs": [],
   "source": [
    "def is_expression():\n",
    "    black=4*' '*layer;\n",
    "    if is_factor():\n",
    "        #print('tmp',tmp)\n",
    "        while len(tmp) > 1:\n",
    "            combine(tmp);\n",
    "        vari.append(tmp[0])\n",
    "        tmp.clear();\n",
    "        if is_plus_minus():\n",
    "            #print(black,letter);\n",
    "            vari.append(letter);\n",
    "            if is_plus_factor() ==0:\n",
    "                print(\"缺少因子\");\n",
    "            \n",
    "        return 1;\n",
    "    \n",
    "#     #print(letter ,\"是不是数字，标识符\",is_iden(),is_number())\n",
    "#     if is_iden()==1:\n",
    "#         print(\"标识符\",letter)\n",
    "#         read_string();\n",
    "#         if is_plus_minus():\n",
    "#             print(letter);\n",
    "#             read_string();\n",
    "#             if is_iden==1:\n",
    "#                 print(\"标识符\",letter);\n",
    "#                 is_expression();\n",
    "#             else:\n",
    "#                 print(\"加减缺少因子\");\n",
    "#         if is_time_divide():\n",
    "#             read_string();\n",
    "#             if is_iden==1:\n",
    "#                 return 1\n",
    "#             else:\n",
    "#                 print(\"乘除缺少因子\");\n",
    "#         if is_greater_then_less_than():\n",
    "#             read_string();\n",
    "#             if is_iden==1:\n",
    "#                 return 1\n",
    "#             else:\n",
    "#                 print(\"关系运算符缺少因子\");\n",
    "#     elif is_number()==1:\n",
    "#         print(\"常量\",letter);\n",
    "#         read_string();\n",
    "#         if is_plus_minus():\n",
    "#             print(letter);\n",
    "#             read_string();\n",
    "#             if is_iden()==1:\n",
    "#                 print(\"标识符\",letter);\n",
    "#                 return 1\n",
    "#             elif is_number()==1:\n",
    "#                 print(\"常量\",letter);\n",
    "#             else:\n",
    "#                 print(\"加减缺少因子\");\n",
    "#         if is_time_divide():\n",
    "#             read_string();\n",
    "#             if is_iden()==1:\n",
    "#                 print(\"标识符\",letter);\n",
    "#                 return 1\n",
    "#             elif is_number()==1:\n",
    "#                 print(\"常量\",letter);\n",
    "#             else:\n",
    "#                 print(\"加减缺少因子\");\n",
    "#         if is_greater_then_less_than():\n",
    "#             read_string();\n",
    "#             if is_iden()==1:\n",
    "#                 print(\"标识符\",letter);\n",
    "#                 return 1\n",
    "#             elif is_number()==1:\n",
    "#                 print(\"常量\",letter);\n",
    "#             else:\n",
    "#                 print(\"加减缺少因子\");"
   ]
  },
  {
   "cell_type": "code",
   "execution_count": 30,
   "metadata": {},
   "outputs": [],
   "source": [
    "def Const_description():\n",
    "    read_string()\n",
    "    if is_iden()==1:\n",
    "        #print(black,\"标识符 \",letter)\n",
    "        read_string();\n",
    "        if letter == '=': \n",
    "            #print(black,\"赋值符号\",letter)\n",
    "            read_string();            \n",
    "            if is_number()==1:\n",
    "                #print(black,\"常量\",letter);\n",
    "                read_string();\n",
    "                if letter==',':\n",
    "                   # print(black,\"逗号\",letter)\n",
    "                    Const_description();\n",
    "                elif letter==';':\n",
    "                    #print(black,\"分号\",letter)\n",
    "                    return 1;\n",
    "        else:\n",
    "            print(\"常量定义错误\")\n",
    "            return 0;\n",
    "    else:\n",
    "        print(\"常量定义错误\");\n",
    "def Var_description():\n",
    "    read_string()\n",
    "    if is_iden()==1:\n",
    "        #print(black,\"标识符 \",letter)\n",
    "        read_string();\n",
    "        if letter == ',': \n",
    "          #  print(black,\"逗号\",letter)\n",
    "            Var_description();\n",
    "        elif letter ==';':\n",
    "           # print(black,\"分号\",letter);\n",
    "            return 1;\n",
    "        else:\n",
    "            print(\"Var说明错误\")\n",
    "            return 0;\n",
    "    else:\n",
    "        print(\"Var说明错误\");"
   ]
  },
  {
   "cell_type": "code",
   "execution_count": 31,
   "metadata": {},
   "outputs": [],
   "source": [
    "def sentense():\n",
    "    global layer,letters,middle,vari;\n",
    "    \n",
    "    layer=layer+1;\n",
    "    black=layer*4*' ';\n",
    "    \n",
    "    if letter == 'begin':\n",
    "        #print(black,\"复合语句, begin\")\n",
    "        read_string();\n",
    "        while letter!='end':\n",
    "            if letter=='':\n",
    "               # print(\" 没有 end\");\n",
    "                return ;\n",
    "            sentense();\n",
    "#             if letters ==1 :\n",
    "#                 print(\"letters \",letter);\n",
    "            if letters==0:\n",
    "                read_string();\n",
    "            letters=0;\n",
    "        #print(black,letter);\n",
    "            \n",
    "    elif letter == 'if':\n",
    "        #print(black,\"条件语句 if\");\n",
    "        is_ifconditon();\n",
    "        #read_string();\n",
    "        if letter == 'then':\n",
    "           # print(black,\"then\")\n",
    "            read_string();\n",
    "            sentense();\n",
    "            if letters==0:\n",
    "                read_string();\n",
    "            if letter == 'else':\n",
    "               # print(black,letter);\n",
    "                read_string();\n",
    "                sentense();\n",
    "#             else:\n",
    "#                 print(\"缺少 else\")\n",
    "        else:\n",
    "            print(\"缺少 then\");\n",
    "    elif letter =='while':\n",
    "        #print(black,\"循环语句 while\");\n",
    "        is_ifconditon();\n",
    "        if letter=='do':\n",
    "            #print(black,letter);\n",
    "            read_string();\n",
    "            sentense();\n",
    "    elif is_iden()==1:\n",
    "        flist.append(letter);\n",
    "        #print(black,\"标识符\",letter);\n",
    "        read_string();\n",
    "        \n",
    "        if letter=='=':\n",
    "            #v2.append(letter);\n",
    "            #vari.append('=');\n",
    "           # print(black,letter);\n",
    "            is_expression();\n",
    "        #read_string();\n",
    "            if letter ==';':\n",
    "                while len(vari)>1:\n",
    "                    combine(vari);\n",
    "                #print('vari',vari);\n",
    "                v3.append(vari[0]);\n",
    "                v2.append(flist[0]);\n",
    "                \n",
    "                char= flist[0] +'='+vari[0];\n",
    "                middle.append(char);\n",
    "                flist.clear();\n",
    "                vari.clear();\n",
    "                #print(middle);\n",
    "                #vari.append(letter);\n",
    "                #print(black,\"分号 ;\");\n",
    "                ;\n",
    "            else:\n",
    "                print(\"缺少分号\");\n",
    "        else:\n",
    "            letters=1;\n",
    "            \n",
    "            print(\"缺少等号,赋值语句错误\");\n",
    "            #print(black,letter)\n",
    "        #read_string();\n",
    "    layer=layer-1;"
   ]
  },
  {
   "cell_type": "code",
   "execution_count": null,
   "metadata": {},
   "outputs": [],
   "source": []
  },
  {
   "cell_type": "code",
   "execution_count": null,
   "metadata": {},
   "outputs": [],
   "source": []
  },
  {
   "cell_type": "code",
   "execution_count": 32,
   "metadata": {},
   "outputs": [],
   "source": [
    "p=0;\n",
    "def judge_which():\n",
    "    if  'Const'==letter:\n",
    "        #print(\"Const_description();\")\n",
    "        Const_description();\n",
    "    elif 'Var'==letter:\n",
    "        #print(\"Var_description();\")\n",
    "        Var_description();\n",
    "    elif letter[0].isalpha:\n",
    "        #print(\"sentense\");\n",
    "        sentense();\n",
    "    else:\n",
    "        print(\"错误Const\");\n",
    "    #print(letter,operator.eq('letter',Const))\n",
    "def read_string():\n",
    "    global p,letter;\n",
    "    p1=p;\n",
    "    letter='';\n",
    "    for i in range(p,length):\n",
    "        if (f_read[i]==' ')|(f_read[i]=='\\n') :\n",
    "            p1=p1+1;\n",
    "            #print(\"空格或者换行\",f_read[i],i);\n",
    "        else:\n",
    "            break;\n",
    "    \n",
    "#     if f_read[p1].isalpha:\n",
    "        \n",
    "#         for i in range(p1,length):\n",
    "#             if f_read[p1].isalnum():\n",
    "#                 letter=letter+f_read[p1];\n",
    "#                 p1=p1+1;\n",
    "#             else:\n",
    "#                 break;\n",
    "#     elif f_read[p1].isdigit:\n",
    "#         for i in range(p1,length):\n",
    "#             if f_read[p1].isdigit():\n",
    "#                 letter=letter+f_read[p1];\n",
    "#                 p1=p1+1;\n",
    "#             break;\n",
    "#     else:\n",
    "#         for i in range(p1,length):\n",
    "#             if (f_read[p1]==' ') :\n",
    "#                 break;\n",
    "#             else:\n",
    "                \n",
    "#                 letter=letter+f_read[p1];\n",
    "#                 p1=p1+1;\n",
    "#             else:\n",
    "#                 break;\n",
    "    flag_alnum=0;\n",
    "    flag_notalnum=0;\n",
    "    for i in range(p1,length):\n",
    "        if (f_read[i]==' ') | (f_read[i]=='\\n'):\n",
    "            break;\n",
    "        else:\n",
    "            if f_read[i].isalnum():\n",
    "                if flag_notalnum==1:\n",
    "                    break;\n",
    "                letter=letter+f_read[p1];\n",
    "                p1=p1+1;\n",
    "                flag_alnum=1;\n",
    "            else:\n",
    "                if flag_alnum==1:\n",
    "                    break\n",
    "                letter=letter+f_read[p1];\n",
    "                p1=p1+1;\n",
    "                flag_notalnum=1;\n",
    "    p=p1;\n",
    "    return letter;\n",
    "    #print(p1);\n",
    "    #print('read_string',letter,p1,'falg1 flag2 ',flag_alnum,flag_notalnum);\n",
    "def lexer_analysiss():\n",
    "    global p,t_time;\n",
    "    middle.clear()\n",
    "    vari.clear()\n",
    "    tmp.clear()\n",
    "    flist.clear()\n",
    "    v2.clear()\n",
    "    v3.clear()\n",
    "    t_time=-1;\n",
    "    while(p<len(f_read)):\n",
    "        read_string()\n",
    "        judge_which()\n",
    "    for idtm in middle:\n",
    "        print(idtm);\n",
    "    \n"
   ]
  },
  {
   "cell_type": "code",
   "execution_count": 33,
   "metadata": {
    "scrolled": false
   },
   "outputs": [
    {
     "name": "stdout",
     "output_type": "stream",
     "text": [
      "C 0\n",
      "o 1\n",
      "n 2\n",
      "s 3\n",
      "t 4\n",
      "  5\n",
      "x 6\n",
      "= 7\n",
      "8 8\n",
      ", 9\n",
      "y 10\n",
      "= 11\n",
      "7 12\n",
      "; 13\n",
      "\n",
      " 14\n",
      "V 15\n",
      "a 16\n",
      "r 17\n",
      "  18\n",
      "a 19\n",
      ", 20\n",
      "b 21\n",
      ", 22\n",
      "c 23\n",
      "; 24\n",
      "\n",
      " 25\n",
      "b 26\n",
      "e 27\n",
      "g 28\n",
      "i 29\n",
      "n 30\n",
      "\n",
      " 31\n",
      "  32\n",
      "  33\n",
      "  34\n",
      "a 35\n",
      "= 36\n",
      "2 37\n",
      "* 38\n",
      "x 39\n",
      "; 40\n",
      "\n",
      " 41\n",
      "  42\n",
      "  43\n",
      "  44\n",
      "b 45\n",
      "= 46\n",
      "a 47\n",
      "+ 48\n",
      "x 49\n",
      "+ 50\n",
      "y 51\n",
      "; 52\n",
      "\n",
      " 53\n",
      "  54\n",
      "  55\n",
      "  56\n",
      "c 57\n",
      "= 58\n",
      "3 59\n",
      "* 60\n",
      "a 61\n",
      "+ 62\n",
      "b 63\n",
      "; 64\n",
      "  65\n",
      "\n",
      " 66\n",
      "e 67\n",
      "n 68\n",
      "d 69\n"
     ]
    }
   ],
   "source": [
    "with open('examplse2.txt', 'r') as f1:\n",
    "    f_read=f1.read()\n",
    "    #len()\n",
    "    length = len(f_read);\n",
    "for i in range(0,len(f_read)):\n",
    "    print(f_read[i],i)"
   ]
  },
  {
   "cell_type": "code",
   "execution_count": 34,
   "metadata": {},
   "outputs": [
    {
     "name": "stdout",
     "output_type": "stream",
     "text": [
      "     123\n"
     ]
    }
   ],
   "source": [
    "#letter[0]\n",
    "print(4*' ',123);"
   ]
  },
  {
   "cell_type": "code",
   "execution_count": 35,
   "metadata": {},
   "outputs": [
    {
     "name": "stdout",
     "output_type": "stream",
     "text": [
      "t0=2*x\n",
      "a=t0\n",
      "t1=t0+x\n",
      "t2=t1+y\n",
      "b=t2\n",
      "t3=3*t0\n",
      "t4=t3+t2\n",
      "c=t4\n"
     ]
    }
   ],
   "source": [
    "lexer_analysiss()"
   ]
  },
  {
   "cell_type": "code",
   "execution_count": 17,
   "metadata": {},
   "outputs": [
    {
     "name": "stdout",
     "output_type": "stream",
     "text": [
      "['a', '=', '2', '*', 'x', ';', 'b', '=', 'a', '+', 'x', '+', 'y', ';', 'c', '=', 'a', '+', '3', '*', 'b', ';']\n"
     ]
    }
   ],
   "source": [
    "print(vari)\n"
   ]
  },
  {
   "cell_type": "code",
   "execution_count": 54,
   "metadata": {},
   "outputs": [
    {
     "name": "stdout",
     "output_type": "stream",
     "text": [
      "['=', '2', '*', 'x', ';', '=', 'a', '+', 'x', '+', 'y', ';', '=', 'a', '+', '3', '*', 'b', ';']\n",
      "['a', 'b', 'c']\n"
     ]
    }
   ],
   "source": [
    "flag=0;\n",
    "v2=list();\n",
    "middle=list();\n",
    "for i in range(0,len(vari)):\n",
    "    t=vari[i];\n",
    "    #print(t);\n",
    "    if flag==1:\n",
    "        if vari[i] ==';':\n",
    "            flag=0;\n",
    "            middle.append(t);\n",
    "        else:\n",
    "            middle.append(t);\n",
    "    else:\n",
    "        if vari[i] == '=':\n",
    "            flag=1;\n",
    "            middle.append(t);\n",
    "        else:\n",
    "            v2.append(t);\n",
    "    #print(vari[i]);\n",
    "print(middle)\n",
    "print(v2)"
   ]
  },
  {
   "cell_type": "code",
   "execution_count": 55,
   "metadata": {},
   "outputs": [
    {
     "name": "stdout",
     "output_type": "stream",
     "text": [
      "* t0 = 2*x\n",
      "['t0 = 2*x']\n",
      "* ['=', 't0', ';', '=', 'a', '+', 'x', '+', 'y', ';', '=', 'a', '+', '3', '*', 'b', ';']\n",
      "a=t0 = ; 0\n",
      "= ; ['=', 'a', '+', 'x', '+', 'y', ';', '=', 'a', '+', '3', '*', 'b', ';']\n",
      "t1=t0+x +  +\n",
      "['t0 = 2*x', 'a=t0', 't1=t0+x']\n",
      "+ + ['=', 't1', '+', 'y', ';', '=', 'a', '+', '3', '*', 'b', ';']\n",
      "+ ; t1+y\n",
      "['t0 = 2*x', 'a=t0', 't1=t0+x', 't2=t1+y']\n",
      "+ ; ['=', 't2', ';', '=', 'a', '+', '3', '*', 'b', ';']\n",
      "b=t2 = ; 2\n",
      "= ; ['=', 'a', '+', '3', '*', 'b', ';']\n",
      "* t3 = 3*t2\n",
      "['t0 = 2*x', 'a=t0', 't1=t0+x', 't2=t1+y', 'b=t2', 't3 = 3*t2']\n",
      "* ['=', 'a', '+', 't3', ';']\n",
      "+ ; t0+t3\n",
      "['t0 = 2*x', 'a=t0', 't1=t0+x', 't2=t1+y', 'b=t2', 't3 = 3*t2', 't4=t0+t3']\n",
      "+ ; ['=', 't4', ';']\n",
      "c=t4 = ; 4\n",
      "= ; []\n"
     ]
    }
   ],
   "source": [
    "flag1=0;\n",
    "p1=list();\n",
    "i=-1;\n",
    "t_time=-1;\n",
    "v3=list();\n",
    "v4=list();\n",
    "while 1 :\n",
    "    char='';\n",
    "    i=i+1;\n",
    "    if i>=len(middle):\n",
    "        break;\n",
    "#     if middle[i]=='+':\n",
    "#         if middle[i+2]!='*':\n",
    "#             for j in range(i-1,i+2):\n",
    "#                     char=char+middle[j];\n",
    "#                     del middle[i-1];\n",
    "#             print(char);\n",
    "#             p1.append(char);\n",
    "#             print(middle)\n",
    "    \n",
    "    if middle[i]=='=':\n",
    "        while 1 :\n",
    "            i=i+1;\n",
    "            if i>=len(middle):\n",
    "                break;\n",
    "            if middle[i]=='*':\n",
    "                for j in range(i-1,i+2):\n",
    "                    if middle[j] in v3:\n",
    "                        index=v3.index(middle[j]);\n",
    "                        middle[j]=v4[index]\n",
    "                    char=char+middle[j];\n",
    "                for j in range(i-1,i+1):\n",
    "                    del middle[i-1];\n",
    "                t_time=t_time+1;\n",
    "                char='t'+str(t_time)+' = '+char\n",
    "                print('*' , char)\n",
    "                #t_time=t_time+1;\n",
    "                p1.append(char);\n",
    "                middle[i-1]='t'+str(t_time)\n",
    "                print(p1)\n",
    "                print('*',middle)\n",
    "                i=-1;\n",
    "                break;\n",
    "            if middle[i]=='+':\n",
    "                if middle[i+2]==';':\n",
    "                    for j in range(i-1,i+2):\n",
    "                        if middle[j] in v3:\n",
    "                            index=v3.index(middle[j]);\n",
    "                            middle[j]=v4[index]\n",
    "                        char=char+middle[j];\n",
    "                    for j in range(i-1,i+1):\n",
    "                        del middle[i-1];\n",
    "                    print('+ ;',char);\n",
    "                    t_time=t_time+1;\n",
    "                    char='t'+str(t_time)+'='+char\n",
    "                    \n",
    "                    p1.append(char);\n",
    "                    #t_time=t_time+1;\n",
    "                    middle[i-1]='t'+str(t_time)\n",
    "                    \n",
    "                    print(p1)\n",
    "                    print('+ ;',middle)\n",
    "                    \n",
    "                    i=-1;\n",
    "                    break;\n",
    "                elif middle[i+2]=='*':\n",
    "                    i=i+1;\n",
    "#                     for j in range(i-1,i+2):\n",
    "#                         char=char+middle[j];\n",
    "#                     for j in range(i-1,i+1):\n",
    "#                         del middle[i-1];\n",
    "#                     char='t'+str(t_time)+char\n",
    "#                     t_time=t_time+1;\n",
    "#                     print(char,'+ *');\n",
    "#                     p1.append(char);\n",
    "#                     m=len(p1)-1;\n",
    "#                     middle[i-1]='t'+str(m)\n",
    "#                     print(p1)\n",
    "#                     print('+ *',middle)\n",
    "#                     i=-1;\n",
    "#                     break;\n",
    "                elif middle[i+2]=='+':\n",
    "                    for j in range(i-1,i+2):\n",
    "                        if middle[j] in v3:\n",
    "                            index=v3.index(middle[j]);\n",
    "                            middle[j]=v4[index]\n",
    "                        char=char+middle[j];\n",
    "                    for j in range(i-1,i+1):\n",
    "                        del middle[i-1];\n",
    "                    t_time=t_time+1;\n",
    "                    char='t'+str(t_time)+'='+char\n",
    "                    \n",
    "                    print(char,'+  +');\n",
    "                    p1.append(char);\n",
    "                    \n",
    "                    middle[i-1]='t'+str(t_time)\n",
    "                    print(p1)\n",
    "                    print('+ +',middle)\n",
    "                    i=-1;\n",
    "                    break;\n",
    "            if middle[i]==';':\n",
    "                for j in range(i-1,i):\n",
    "                    if middle[j] in v3:\n",
    "                        index=v3.index(middle[j]);\n",
    "                        middle[j]=v4[index]\n",
    "                    char=char+middle[j];\n",
    "                for j in range(i-2,i+1):\n",
    "                    del middle[i-2];\n",
    "                v3.append(v2[0]);\n",
    "                v4.append(char);\n",
    "                char=str(v2[0])+'='+char;\n",
    "                print(char,'= ;' ,t_time);\n",
    "                p1.append(char);\n",
    "                del v2[0];\n",
    "                print('= ;',middle);\n",
    "                i=-1;\n",
    "                break;\n",
    "    #print('i',i)    \n",
    "    \n",
    "        "
   ]
  },
  {
   "cell_type": "code",
   "execution_count": 56,
   "metadata": {},
   "outputs": [
    {
     "name": "stdout",
     "output_type": "stream",
     "text": [
      "['a', 'b', 'c']\n",
      "['t0', 't2', 't4']\n",
      "['t0 = 2*x', 'a=t0', 't1=t0+x', 't2=t1+y', 'b=t2', 't3 = 3*t2', 't4=t0+t3', 'c=t4']\n"
     ]
    }
   ],
   "source": [
    "print(v3);\n",
    "print(v4);\n",
    "print(p1)"
   ]
  },
  {
   "cell_type": "code",
   "execution_count": 50,
   "metadata": {},
   "outputs": [
    {
     "name": "stdout",
     "output_type": "stream",
     "text": [
      "123\n"
     ]
    }
   ],
   "source": [
    "if v3[1] in v3:\n",
    "    print(123)"
   ]
  },
  {
   "cell_type": "code",
   "execution_count": null,
   "metadata": {},
   "outputs": [],
   "source": []
  },
  {
   "cell_type": "code",
   "execution_count": null,
   "metadata": {},
   "outputs": [],
   "source": []
  },
  {
   "cell_type": "code",
   "execution_count": null,
   "metadata": {},
   "outputs": [],
   "source": [
    "for i in range(len(middle)):\n",
    "    if middle[i]=='=':\n",
    "        "
   ]
  },
  {
   "cell_type": "code",
   "execution_count": null,
   "metadata": {},
   "outputs": [],
   "source": []
  },
  {
   "cell_type": "code",
   "execution_count": 23,
   "metadata": {},
   "outputs": [],
   "source": [
    "lexer_analysiss()"
   ]
  },
  {
   "cell_type": "code",
   "execution_count": 45,
   "metadata": {},
   "outputs": [
    {
     "name": "stdout",
     "output_type": "stream",
     "text": [
      "123\n"
     ]
    }
   ],
   "source": [
    "if vari[5]==';':\n",
    "    print(123)"
   ]
  },
  {
   "cell_type": "code",
   "execution_count": 29,
   "metadata": {
    "scrolled": false
   },
   "outputs": [
    {
     "name": "stdout",
     "output_type": "stream",
     "text": [
      "sentense\n",
      "         复合语句, begin\n",
      "             标识符 a\n",
      "             =\n",
      "             标识符  b\n",
      "             +\n",
      "             标识符  x\n",
      "             分号 ;\n",
      "             条件语句 if\n",
      "             标识符  a\n",
      "             >\n",
      "             常数 0\n",
      "             then\n",
      "                 标识符 begi\n",
      "缺少等号,赋值语句错误\n",
      "                 c\n",
      "             标识符 c\n",
      "             =\n",
      "             标识符  y\n",
      "             -\n",
      "             常数 1\n",
      "             分号 ;\n",
      "             标识符 a\n",
      "             =\n",
      "             标识符  a\n",
      "             +\n",
      "             常数 2\n",
      "             分号 ;\n",
      "         end\n"
     ]
    }
   ],
   "source": [
    "lexer_analysiss()"
   ]
  },
  {
   "cell_type": "code",
   "execution_count": 34,
   "metadata": {},
   "outputs": [
    {
     "name": "stdout",
     "output_type": "stream",
     "text": [
      "sentense\n"
     ]
    }
   ],
   "source": [
    "lexer_analysiss()\n"
   ]
  },
  {
   "cell_type": "code",
   "execution_count": 63,
   "metadata": {},
   "outputs": [
    {
     "name": "stdout",
     "output_type": "stream",
     "text": [
      "123\n"
     ]
    }
   ],
   "source": [
    "if letter[0].isalpha()==0:\n",
    "    print(123)"
   ]
  },
  {
   "cell_type": "code",
   "execution_count": 184,
   "metadata": {},
   "outputs": [
    {
     "name": "stdout",
     "output_type": "stream",
     "text": [
      "10\n",
      "read_string * 39 falg1 flag2  0 1\n"
     ]
    }
   ],
   "source": [
    "if f_read[14]=='\\n':\n",
    "    print(10);\n",
    "read_string()\n"
   ]
  },
  {
   "cell_type": "code",
   "execution_count": 28,
   "metadata": {},
   "outputs": [
    {
     "ename": "NameError",
     "evalue": "name 'list1' is not defined",
     "traceback": [
      "\u001b[1;31m---------------------------------------------------------------------------\u001b[0m",
      "\u001b[1;31mNameError\u001b[0m                                 Traceback (most recent call last)",
      "\u001b[1;32m<ipython-input-28-32e3a55f6bef>\u001b[0m in \u001b[0;36m<module>\u001b[1;34m()\u001b[0m\n\u001b[1;32m----> 1\u001b[1;33m \u001b[0mlist1\u001b[0m\u001b[1;33m\u001b[0m\u001b[0m\n\u001b[0m",
      "\u001b[1;31mNameError\u001b[0m: name 'list1' is not defined"
     ],
     "output_type": "error"
    }
   ],
   "source": [
    "list1"
   ]
  },
  {
   "cell_type": "code",
   "execution_count": null,
   "metadata": {},
   "outputs": [],
   "source": []
  }
 ],
 "metadata": {
  "kernelspec": {
   "display_name": "Python 3",
   "language": "python",
   "name": "python3"
  },
  "language_info": {
   "codemirror_mode": {
    "name": "ipython",
    "version": 3
   },
   "file_extension": ".py",
   "mimetype": "text/x-python",
   "name": "python",
   "nbconvert_exporter": "python",
   "pygments_lexer": "ipython3",
   "version": "3.6.3"
  }
 },
 "nbformat": 4,
 "nbformat_minor": 2
}
